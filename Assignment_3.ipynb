{
  "cells": [
    {
      "cell_type": "markdown",
      "metadata": {
        "id": "qjG7R65B1YyT"
      },
      "source": [
        "<table align=\"center\">\n",
        "  <td align=\"center\"><a target=\"_blank\" href=\"https://colab.research.google.com/github/KhaledElTahan/DeepLearning/blob/master/Labs/lab3/Lab3.ipynb\">\n",
        "        <img src=\"http://introtodeeplearning.com/images/colab/colab.png?v2.0\"  style=\"padding-bottom:5px;\" />Run in Google Colab</a></td>\n",
        "</table>"
      ]
    },
    {
      "cell_type": "markdown",
      "metadata": {
        "id": "BgfMPjgq1oES"
      },
      "source": [
        "# Lab3: Convolutional Neural Network Use Cases"
      ]
    },
    {
      "cell_type": "markdown",
      "metadata": {
        "id": "D9itO8bK5U2j"
      },
      "source": [
        "![Simple CNN](https://github.com/KhaledElTahan/DeepLearning/blob/master/Labs/lab3/Cover.png?raw=1)"
      ]
    },
    {
      "cell_type": "markdown",
      "metadata": {
        "id": "jddEsdkXvrRw"
      },
      "source": [
        "## 3.1 Problem Statement"
      ]
    },
    {
      "cell_type": "markdown",
      "metadata": {
        "id": "Nzc_iwgHvf4U"
      },
      "source": [
        "In this lab you will build several CNN models that check if a person is happy or not. You will use custom made CNN, and CNN use cases either pretrained or not, also you will apply layers freezing on pretrained CNNs and study all those modifications effect on the accuracy."
      ]
    },
    {
      "cell_type": "markdown",
      "metadata": {
        "id": "rf0ytuSvvxr4"
      },
      "source": [
        "**IMPORTANT NOTE:** You have to change runtime type on Google Colab to GPU since this lab requires much computation resources and it will run very slowly on CPU (Default runtime type)"
      ]
    },
    {
      "cell_type": "markdown",
      "metadata": {
        "id": "cIDR25n6wpFs"
      },
      "source": [
        "## 3.2 Problem Details"
      ]
    },
    {
      "cell_type": "markdown",
      "metadata": {
        "id": "-w2cdFNgwzCZ"
      },
      "source": [
        "### 3.2.1 Packages & Utility Methods"
      ]
    },
    {
      "cell_type": "code",
      "execution_count": null,
      "metadata": {
        "id": "I43CQb7jw4EU"
      },
      "outputs": [],
      "source": [
        "import tensorflow as tf\n",
        "import numpy as np\n",
        "\n",
        "from tensorflow.keras import layers\n",
        "from tensorflow.keras.layers import Input, Dense, Activation, ZeroPadding2D, BatchNormalization, Flatten, Conv2D\n",
        "from tensorflow.keras.layers import AveragePooling2D, MaxPooling2D, Dropout, GlobalMaxPooling2D, GlobalAveragePooling2D\n",
        "from tensorflow.keras.models import Model\n",
        "from tensorflow.keras.optimizers import SGD\n",
        "from tensorflow.keras.preprocessing import image\n",
        "from tensorflow.keras.applications.imagenet_utils import preprocess_input\n",
        "from tensorflow.keras.utils import plot_model\n",
        "from tensorflow.keras import applications\n",
        "import tensorflow.keras.backend as K\n",
        "K.set_image_data_format('channels_last')\n",
        "\n",
        "from IPython.display import SVG\n",
        "import matplotlib.pyplot as plt\n",
        "from matplotlib.pyplot import imshow\n",
        "\n",
        "import pydot\n",
        "import h5py\n",
        "import random\n",
        "import requests\n",
        "\n",
        "%matplotlib inline"
      ]
    },
    {
      "cell_type": "code",
      "execution_count": null,
      "metadata": {
        "id": "Qs2VOP_DxLrX"
      },
      "outputs": [],
      "source": [
        "def download_file(file_url):\n",
        "    file_r = requests.get(file_url, allow_redirects=True)\n",
        "    open(file_url.rsplit('/', 1)[1], 'wb').write(file_r.content)"
      ]
    },
    {
      "cell_type": "markdown",
      "metadata": {
        "id": "E30_iWRoxO5c"
      },
      "source": [
        "### 3.2.2 Dataset Loading"
      ]
    },
    {
      "cell_type": "markdown",
      "metadata": {
        "id": "OJqYhRtSxoGH"
      },
      "source": [
        "#### Define method to download & load dataset"
      ]
    },
    {
      "cell_type": "code",
      "execution_count": null,
      "metadata": {
        "id": "N7X-DKCxxSnx"
      },
      "outputs": [],
      "source": [
        "def load_dataset():\n",
        "    download_file(\"https://raw.githubusercontent.com/KhaledElTahan/DeepLearning/master/Labs/lab3/lab3_train.h5\")\n",
        "    download_file(\"https://raw.githubusercontent.com/KhaledElTahan/DeepLearning/master/Labs/lab3/lab3_test.h5\")\n",
        "\n",
        "    path_to_train = \"lab3_train.h5\"\n",
        "    path_to_test = \"lab3_test.h5\"\n",
        "\n",
        "    train_dataset = h5py.File(path_to_train, \"r\")\n",
        "    train_x = np.array(train_dataset['train_set_x'][:])\n",
        "    train_y = np.array(train_dataset['train_set_y'][:])\n",
        "\n",
        "    test_dataset = h5py.File(path_to_test, \"r\")\n",
        "    test_x = np.array(test_dataset['test_set_x'][:])\n",
        "    test_y = np.array(test_dataset['test_set_y'][:])\n",
        "\n",
        "    # reshape y from (samples, ) to (1, samples)\n",
        "    train_y = train_y.reshape((1, train_x.shape[0]))\n",
        "    test_y = test_y.reshape((1, test_x.shape[0]))\n",
        "\n",
        "    # transpose y\n",
        "    train_y = train_y.T\n",
        "    test_y = test_y.T\n",
        "\n",
        "    return train_x, train_y, test_x, test_y"
      ]
    },
    {
      "cell_type": "markdown",
      "metadata": {
        "id": "q76lKFO4xfYl"
      },
      "source": [
        "#### Define method to make simple preprocessing on the dataset"
      ]
    },
    {
      "cell_type": "code",
      "execution_count": null,
      "metadata": {
        "id": "LtZ8CqeixgNf"
      },
      "outputs": [],
      "source": [
        "def preprocess_data():\n",
        "    train_x, train_y, test_x, test_y = load_dataset()\n",
        "\n",
        "    # Normalize image vectors\n",
        "    train_x = train_x/255.\n",
        "    test_x = test_x/255.\n",
        "\n",
        "    print (\"number of training examples = \" + str(train_x.shape[0]))\n",
        "    print (\"number of test examples = \" + str(test_x.shape[0]))\n",
        "\n",
        "    print (\"X_train shape: \" + str(train_x.shape))\n",
        "    print (\"Y_train shape: \" + str(train_y.shape))\n",
        "    print (\"X_test shape: \" + str(test_x.shape))\n",
        "    print (\"Y_test shape: \" + str(test_y.shape))\n",
        "\n",
        "    return train_x, train_y, test_x, test_y"
      ]
    },
    {
      "cell_type": "markdown",
      "metadata": {
        "id": "6k4p45YfxjE6"
      },
      "source": [
        "#### Get the preprocessed Data"
      ]
    },
    {
      "cell_type": "code",
      "execution_count": null,
      "metadata": {
        "colab": {
          "base_uri": "https://localhost:8080/"
        },
        "id": "HRj85-HdxjZ9",
        "outputId": "48b4d091-061f-4ced-9650-3196cfbeaef4"
      },
      "outputs": [
        {
          "output_type": "stream",
          "name": "stdout",
          "text": [
            "number of training examples = 600\n",
            "number of test examples = 150\n",
            "X_train shape: (600, 64, 64, 3)\n",
            "Y_train shape: (600, 1)\n",
            "X_test shape: (150, 64, 64, 3)\n",
            "Y_test shape: (150, 1)\n"
          ]
        }
      ],
      "source": [
        "train_x, train_y, test_x, test_y = preprocess_data()"
      ]
    },
    {
      "cell_type": "markdown",
      "metadata": {
        "id": "Uj7lCvXryXEf"
      },
      "source": [
        "### 3.2.3 Dataset Visualization"
      ]
    },
    {
      "cell_type": "code",
      "execution_count": null,
      "metadata": {
        "id": "rvIrHn8Ry2yH"
      },
      "outputs": [],
      "source": [
        "W_grid = 6\n",
        "L_grid = 6\n",
        "\n",
        "fig, axes = plt.subplots(L_grid, W_grid, figsize = (9,9))\n",
        "\n",
        "axes = axes.ravel() # flaten the L_grid x W_grid matrix into L_grid * W_grid array\n",
        "\n",
        "n_training = len(train_x) # get the length of the training dataset\n",
        "\n",
        "for i in np.arange(0, W_grid * L_grid): # create evenly spaces variables \n",
        "\n",
        "    index = np.random.randint(0, n_training)\n",
        "    axes[i].imshow(train_x[index])\n",
        "\n",
        "    if train_y[index] == 1:\n",
        "        axes[i].set_title(\"Happy\", fontsize = 10)\n",
        "    else:\n",
        "        axes[i].set_title(\"Not Happy\", fontsize = 10)\n",
        "    axes[i].axis('off')\n",
        "\n",
        "plt.subplots_adjust(hspace=0.4)"
      ]
    },
    {
      "cell_type": "markdown",
      "metadata": {
        "id": "9pFEjlqqzq9S"
      },
      "source": [
        "### 3.2.4 Plot Utility Methods"
      ]
    },
    {
      "cell_type": "markdown",
      "metadata": {
        "id": "Pvx-fYE--Oe5"
      },
      "source": [
        "The following code is used to plot accuracy and loss histories for each model experiment."
      ]
    },
    {
      "cell_type": "code",
      "execution_count": null,
      "metadata": {
        "id": "Y-xg8Tb49prm"
      },
      "outputs": [],
      "source": [
        "def plot(training_results, validation_results, results_type, model_name):\n",
        "    fig = plt.figure(figsize=[8, 6])\n",
        "\n",
        "    plt.plot(training_results, 'r', linewidth=3.0)\n",
        "    plt.plot(validation_results, 'b', linewidth=3.0)\n",
        "    plt.legend(['Training ' + results_type, 'Validation ' + results_type], fontsize=18)\n",
        "    plt.xlabel('Epochs', fontsize=16)\n",
        "    plt.ylabel(results_type, fontsize=16)\n",
        "    plt.title(results_type + ' of ' + model_name, fontsize=16)\n",
        "\n",
        "\n",
        "def plot_accuracy(history, model_name):\n",
        "    plot(history.history['accuracy'], history.history['val_accuracy'], 'Accuracy', model_name)\n",
        "    \n",
        "\n",
        "def plot_loss(history, model_name):\n",
        "    plot(history.history['loss'], history.history['val_loss'], 'Loss', model_name)"
      ]
    },
    {
      "cell_type": "markdown",
      "metadata": {
        "id": "kAQaHBS7_5Ep"
      },
      "source": [
        "### 3.2.5 Custom CNN Model"
      ]
    },
    {
      "cell_type": "markdown",
      "metadata": {
        "id": "fAuIspNRBCwE"
      },
      "source": [
        "**TODO**: Build a custom CNN model to solve the problem.\n",
        "\n",
        "Model guidelines (You need to follow them):\n",
        "\n",
        "1. [Input](https://keras.io/api/layers/core_layers/input/) Layer.\n",
        "2. [ZeroPadding2D](https://keras.io/api/layers/reshaping_layers/zero_padding2d/) Layer.\n",
        "3. [Conv2D](https://keras.io/api/layers/convolution_layers/convolution2d/) Layer.\n",
        "4. [BatchNormalization](https://keras.io/api/layers/normalization_layers/batch_normalization/) Layer. Read [this article](https://kharshit.github.io/blog/2018/12/28/why-batch-normalization) for more about Batchnormalization.\n",
        "5. Relu [Activation](https://keras.io/api/layers/core_layers/activation/).\n",
        "6. [MaxPooling2D](https://keras.io/api/layers/pooling_layers/max_pooling2d/) Layer.\n",
        "7. [Flatten](https://keras.io/api/layers/reshaping_layers/flatten/) Layer.\n",
        "8. [Dense](https://keras.io/api/layers/core_layers/dense/) with Sigmoid Layer (one perceptrion).\n",
        "\n",
        "**Note**: If you made the required model, you can make other custom CNN models if you wish to further improve the accuracy, but in other code cells however."
      ]
    },
    {
      "cell_type": "code",
      "execution_count": null,
      "metadata": {
        "id": "_QL8GOa0A0hg"
      },
      "outputs": [],
      "source": [
        "def CustomCNN(input_shape):\n",
        "    \"\"\"\n",
        "    Implementation of the Custom CNN.\n",
        "    Args:\n",
        "        input_shape () shape of the images of the dataset\n",
        "    Returns:\n",
        "        model (Keras.Model): CNN Custom Model\n",
        "        model_name (Str): The name of the model\n",
        "    \"\"\"\n",
        "    \n",
        "    ### START CODE HERE ###\n",
        "    X_input = Input(input_shape)\n",
        "\n",
        "    # Zero-Padding: pads the border of X_input with zeroes\n",
        "    X = ZeroPadding2D((3, 3))(X_input)\n",
        "\n",
        "    # CONV -> BN -> RELU Block applied to X\n",
        "    #'''TODO: Define the conv2d layer'''\n",
        "    X =  Conv2D(2, 3, activation='relu', dilation_rate=2, input_shape=input_shape[1:])(X)\n",
        "    X = BatchNormalization(axis=3, name='bn0')(X)\n",
        "    X = Activation('relu')(X)\n",
        "\n",
        "    # MAXPOOL\n",
        "    #'''TODO: Define the maxpooling2d layer'''\n",
        "    X = MaxPooling2D(pool_size=(2, 2),strides=None, padding='valid')(X)\n",
        "    # FLATTEN X (means convert it to a vector) + FULLYCONNECTED (Dense)\n",
        "    X = Flatten()(X)\n",
        "    # '''TODO: Define the dense layer'''\n",
        "    Y = Dense(1,activation=\"sigmoid\")(X)\n",
        "\n",
        "    # Create model. This creates your tensorflow.keras model instance, you'll use this instance to train/test the model.\n",
        "    model = Model(inputs=X_input, outputs=Y)\n",
        "    ### END CODE HERE ###\n",
        "    \n",
        "    return model, \"Custom CNN\""
      ]
    },
    {
      "cell_type": "markdown",
      "metadata": {
        "id": "MHYRpliRENqH"
      },
      "source": [
        "### 3.2.6 CNN Use Case No.1: VGG"
      ]
    },
    {
      "cell_type": "markdown",
      "metadata": {
        "id": "BYMN2-ECFsRg"
      },
      "source": [
        "![VGG Architecture](https://github.com/KhaledElTahan/DeepLearning/blob/master/Labs/lab3/vgg.png?raw=1)"
      ]
    },
    {
      "cell_type": "markdown",
      "metadata": {
        "id": "fonIfjJOFzCU"
      },
      "source": [
        "**Note**: this ia a show case to help you do the same with other use cases.\n",
        "\n",
        "**TODO**: Try different variations for VGG:\n",
        "\n",
        "1. [VGG16](https://www.tensorflow.org/api_docs/python/tf/keras/applications/VGG16)\n",
        "2. [VGG19](https://www.tensorflow.org/api_docs/python/tf/keras/applications/VGG19)\n",
        "\n",
        "**Note**: You will need to experiment all of them both pretrained (both with or without layers freezing) and also untrained."
      ]
    },
    {
      "cell_type": "code",
      "execution_count": null,
      "metadata": {
        "id": "HXdxqjb1EVfr"
      },
      "outputs": [],
      "source": [
        "def VGG(pretrained = True, input_shape = (64, 64, 3), model_name = \"VGG19\"):\n",
        "    \"\"\"\n",
        "    Returns VGG Keras Model\n",
        "    Args:\n",
        "        pretrained (Bool): Whether get a pretrained model or not\n",
        "        input_shape (Tuple): To create the input layer, should match the image resolution\n",
        "        model_name (str): String to capture the model name\n",
        "    Examples:\n",
        "        VGG(True) -> Model, \"Pretrained VGG16\"\n",
        "    \"\"\"\n",
        "    if(pretrained):\n",
        "        model_name = \"Pretrained \" + model_name\n",
        "        base_model = applications.vgg19.VGG19(weights='imagenet', include_top=False, input_shape=input_shape, pooling='none')\n",
        "    else:\n",
        "        model_name = \"Untrained \" + model_name\n",
        "        base_model = applications.vgg19.VGG19(weights=None, include_top=False, input_shape=input_shape, pooling='none')\n",
        "\n",
        "    return base_model, model_name"
      ]
    },
    {
      "cell_type": "markdown",
      "metadata": {
        "id": "JeoGhvJbEVzf"
      },
      "source": [
        "### 3.2.7 CNN Use Case No.2: ResNet"
      ]
    },
    {
      "cell_type": "markdown",
      "metadata": {
        "id": "RzFQlFBIJZT6"
      },
      "source": [
        "![VGG vs ResNet](https://github.com/KhaledElTahan/DeepLearning/blob/master/Labs/lab3/VGG_vs_ResNet.png?raw=1)"
      ]
    },
    {
      "cell_type": "markdown",
      "metadata": {
        "id": "SnJAoDo0Jdoh"
      },
      "source": [
        "**TODO**: Follow the same style for the above mentioned VGG and experiment the following ResNets:\n",
        "\n",
        "1. [ResNet50](https://www.tensorflow.org/api_docs/python/tf/keras/applications/ResNet50)\n",
        "2. [ResNet50V2](https://www.tensorflow.org/api_docs/python/tf/keras/applications/ResNet50V2)\n",
        "3. [ResNet101](https://www.tensorflow.org/api_docs/python/tf/keras/applications/ResNet101)\n",
        "4. [ResNet101v2](https://www.tensorflow.org/api_docs/python/tf/keras/applications/ResNet101V2)\n",
        "\n",
        "**Note 1**: You will need to experiment all of them both pretrained (both with or without layers freezing) and also untrained.\n",
        "\n",
        "**Note 2**: For very deep networks like ResNet101, the size of the input might get reduced too much and an error might be produced, you shall fix this issue by either resizing input image (preferred) or by adding padding."
      ]
    },
    {
      "cell_type": "code",
      "execution_count": null,
      "metadata": {
        "id": "blCAcLhOEgxV"
      },
      "outputs": [],
      "source": [
        "def ResNet(pretrained = True, input_shape = (64, 64, 3), model_name = \"ResNet101V2\"):\n",
        "    \"\"\"\n",
        "    Returns ResNet Keras Model\n",
        "    Args:\n",
        "        pretrained (Bool): Whether get a pretrained model or not\n",
        "        input_shape (Tuple): To create the input layer, should match the image resolution\n",
        "        model_name (str): String to capture the model name\n",
        "    Examples:\n",
        "        ResNet(True) -> Model, \"Pretrained ResNet50\"\n",
        "    \"\"\"\n",
        "    if(pretrained):\n",
        "        model_name = \"Pretrained \" + model_name\n",
        "        #'''TODO: Define the pretrained model using keras.applications'''\n",
        "        base_model =applications.resnet_v2.ResNet101V2(weights='imagenet', include_top=False, input_shape=input_shape, pooling='none',classifier_activation='softmax')\n",
        "    else:\n",
        "        model_name = \"Untrained \" + model_name\n",
        "        #'''TODO: Define the pretrained model using keras.applications'''\n",
        "        base_model = applications.resnet_v2.ResNet101V2(weights='imagenet', include_top=False, input_shape=input_shape, pooling='none',classifier_activation='softmax')\n",
        "    return base_model, model_name"
      ]
    },
    {
      "cell_type": "markdown",
      "metadata": {
        "id": "tSnsFbYpEhQ-"
      },
      "source": [
        "### 3.2.8 CNN Use Case No.3: Your choice"
      ]
    },
    {
      "cell_type": "markdown",
      "metadata": {
        "id": "y962x5Z6KIXV"
      },
      "source": [
        "**TODO**: Select one application other than VGG or ResNet from [here](https://www.tensorflow.org/api_docs/python/tf/keras/applications) and implement it the same way you did with VGG & ResNet.\n",
        "\n",
        "**Note**: You will need to experiment it in both pretrained (both with or without layers freezing) and also untrained."
      ]
    },
    {
      "cell_type": "code",
      "execution_count": null,
      "metadata": {
        "id": "zeUM8gMSEnky"
      },
      "outputs": [],
      "source": [
        "def CNN_App(pretrained = True, input_shape = (64, 64, 3), model_name=\"EfficientNetV2B3\"):\n",
        "    \"\"\"\n",
        "    Returns A Custom CNN Application Keras Model\n",
        "    Args:\n",
        "        pretrained (Bool): Whether get a pretrained model or not\n",
        "        input_shape (Tuple): To create the input layer, should match the image resolution\n",
        "        model_name (str): String to capture the model name\n",
        "    Examples:\n",
        "        CNN_App(True, (64, 64, 3), \"Xception\") -> Model, \"Pretrained Xception\"\n",
        "    \"\"\"\n",
        "     \n",
        "    if(pretrained):\n",
        "        model_name = \"Pretrained \" + model_name\n",
        "        base_model = applications.efficientnet_v2.EfficientNetV2B3(weights='imagenet', include_top=False, input_shape=input_shape, pooling='none',classifier_activation='softmax')\n",
        "    else:\n",
        "        model_name = \"Untrained \" + model_name\n",
        "        base_model = applications.efficientnet_v2.EfficientNetV2B3(weights='imagenet', include_top=False, input_shape=input_shape, pooling='none',classifier_activation='softmax')\n",
        "\n",
        "    return base_model, model_name"
      ]
    },
    {
      "cell_type": "markdown",
      "metadata": {
        "id": "y8yZbaVmEoFo"
      },
      "source": [
        "### 3.2.9 Layers Freezing"
      ]
    },
    {
      "cell_type": "markdown",
      "metadata": {
        "id": "EoI_aoqqLaSB"
      },
      "source": [
        "The following utility method is used for layers freezing."
      ]
    },
    {
      "cell_type": "markdown",
      "metadata": {
        "id": "wmHk7MPbMYLt"
      },
      "source": [
        "**TODO**: Experiment all the pretrained models with layers freezing using different number of frozen layers. \n",
        "\n",
        "**NOTE**: You will not change this method at all, the experimenting will take place in the test cases section below."
      ]
    },
    {
      "cell_type": "code",
      "execution_count": null,
      "metadata": {
        "id": "wtjg2Emd9vid"
      },
      "outputs": [],
      "source": [
        "def freeze(model, number_of_frozen_layers):\n",
        "    layers = model.layers\n",
        "\n",
        "    layers = layers[:number_of_frozen_layers]\n",
        "\n",
        "    for layer in layers:\n",
        "        layer.trainable = False\n",
        "\n",
        "    return model"
      ]
    },
    {
      "cell_type": "markdown",
      "metadata": {
        "id": "1Upxm_gfL4Z6"
      },
      "source": [
        "### 3.2.10 Make your models"
      ]
    },
    {
      "cell_type": "markdown",
      "metadata": {
        "id": "S-KBFF_3L8TB"
      },
      "source": [
        "Use the following utility method to make the model you desire."
      ]
    },
    {
      "cell_type": "code",
      "execution_count": null,
      "metadata": {
        "id": "XKSOIuhmL5Ka"
      },
      "outputs": [],
      "source": [
        "def make_model(pretrained=True, freeze_layers=False, number_of_frozen_layers=0, model_selection=\"VGG\"):\n",
        "    \"\"\"\n",
        "    Use this method to create models\n",
        "    Args:\n",
        "      pretrained (Bool): Whether make the model pretrained or not, doesn't apply to custom CNN.\n",
        "      freeze_layers (Bool): Whether apply layers freezing on pretrained networks or not.\n",
        "      number_of_frozen_layers (int): Number of frozen layers.\n",
        "      model_selection (Str): Must be exactly \"Custom\", or \"VGG\", or \"ResNet\" or anything else for CNN_App\n",
        "    \"\"\"\n",
        "\n",
        "    input_shape = (64, 64, 3)\n",
        "\n",
        "    if model_selection == \"Custom\":\n",
        "        model, model_name = CustomCNN(input_shape)\n",
        "    elif model_selection == \"VGG\":\n",
        "        model, model_name = VGG(pretrained, input_shape)\n",
        "    elif model_selection == \"ResNet\":\n",
        "        model, model_name = ResNet(pretrained, input_shape)\n",
        "    elif model_selection == \"App\":\n",
        "        model, model_name = CNN_App(pretrained, input_shape)\n",
        "    else:\n",
        "        model, model_name = CNN_App(pretrained, input_shape)\n",
        "\n",
        "    if model_selection != \"Custom\":\n",
        "        if freeze_layers:\n",
        "            model = freeze(model, number_of_frozen_layers)\n",
        "            model_name = model_name + \" with \" + str(number_of_frozen_layers) + \" Frozen Layers\"\n",
        "\n",
        "        ## Add classification head for non custom models\n",
        "        y = model.output\n",
        "        y = Flatten()(y)\n",
        "        y = Dense(256, activation='relu')(y)\n",
        "        y = Dense(1, activation='sigmoid', name='fc')(y)\n",
        "\n",
        "        model = Model(inputs=model.input, outputs=y)\n",
        "\n",
        "    return model, model_name"
      ]
    },
    {
      "cell_type": "markdown",
      "metadata": {
        "id": "WRYxqJQP-c5j"
      },
      "source": [
        "### 3.2.11 Testing model utility method"
      ]
    },
    {
      "cell_type": "markdown",
      "metadata": {
        "id": "B-rtiZGC_610"
      },
      "source": [
        "This is a generic method that will be used to test all the implemented models, a modular design allows you to experiment more clearly."
      ]
    },
    {
      "cell_type": "markdown",
      "metadata": {
        "id": "MaJUEXAq_NSX"
      },
      "source": [
        "**TODO**:\n",
        "\n",
        "1. Try different [optimizers](https://keras.io/api/optimizers/) and report their affect on the **results** and plots.\n",
        "2. For each optimizer, try different learning rates and other hyperparameters (If applicable), and report the difference on the **results** and plots.\n",
        "3. Try different [loss functions](https://keras.io/api/losses/), and report their affect on **accuracy** and plots. \n",
        "\n",
        "**Note**: You don't need to try different optimizers, rates & losses on all models, just find the best model with the current optimizers, rates & losses then try your experiments (changing optimizers, rates & losses) only on this model."
      ]
    },
    {
      "cell_type": "code",
      "execution_count": null,
      "metadata": {
        "id": "m9UnOPkv9qSs"
      },
      "outputs": [],
      "source": [
        "def test_model(model, model_name, epochs=10, print_summary=True, plot_results=True):\n",
        "    '''TODO: Experiment with different optimizers, learning rates, and losses'''\n",
        "\n",
        "    sgd = tf.keras.optimizers.SGD(learning_rate=0.001, momentum=0.9 )\n",
        "    lossfun = tf.keras.losses.MeanSquaredError()\n",
        "    model.compile(optimizer=sgd, loss=lossfun, metrics=['accuracy'])\n",
        "\n",
        "    if (print_summary):\n",
        "        model.summary()\n",
        "\n",
        "    hist = model.fit(train_x, train_y, validation_data = (test_x, test_y), verbose=1, epochs=epochs, batch_size=32)\n",
        "    preds = model.evaluate(test_x, test_y, batch_size=32, verbose=1, sample_weight=None)\n",
        "\n",
        "    print (\"Validation Loss = \" + str(preds[0]))\n",
        "    print (\"Validation Accuracy = \" + str(preds[1]))\n",
        "\n",
        "    if(plot_results):\n",
        "        plot_loss(hist, model_name)\n",
        "        plot_accuracy(hist, model_name)"
      ]
    },
    {
      "cell_type": "markdown",
      "metadata": {
        "id": "QQDz5f_6PfdE"
      },
      "source": [
        "### 3.2.12 Create your model test cases."
      ]
    },
    {
      "cell_type": "markdown",
      "metadata": {
        "id": "IFi_kXqISPCC"
      },
      "source": [
        "**TODO**: Fill here all the test cases methods that you want to apply.\n",
        "\n",
        "Add methods (Untrained, pretrained & pretrained with freezing) for:\n",
        "1. ResNet \n",
        "2. CNN App\n",
        "\n",
        "**NOTE**: Those test cases, don't change use case types (i.e. you will need to change the VGG in VGG() method to VGG19 and re test again for example) and doesn't change the loss function nor the optimizer type.\n"
      ]
    },
    {
      "cell_type": "code",
      "execution_count": null,
      "metadata": {
        "id": "IlgrrWDNSAqx"
      },
      "outputs": [],
      "source": [
        "def test_pretrained_layers_15_freezing_VGG(epochs=20, print_summary=True, plot_results=True):\n",
        "    model, model_name = make_model(True, True, 15, \"VGG\")\n",
        "    test_model(model, model_name, epochs, print_summary, plot_results)"
      ]
    },
    {
      "cell_type": "markdown",
      "metadata": {
        "id": "OtAoevuYUE8v"
      },
      "source": [
        "###  3.2.13 Test your models"
      ]
    },
    {
      "cell_type": "markdown",
      "metadata": {
        "id": "gnUnFfDuVvQa"
      },
      "source": [
        "**TODO**: Call all your defined methods for testing here. \n",
        "\n",
        "**Note**: You might want to go up to 1000 epochs for the untrained model if the validation accuracy is low."
      ]
    },
    {
      "cell_type": "code",
      "execution_count": null,
      "metadata": {
        "id": "Ouoa85_rUOwU",
        "colab": {
          "base_uri": "https://localhost:8080/",
          "height": 1000
        },
        "outputId": "067132f7-58a2-44d7-d6cd-29df53716462"
      },
      "outputs": [
        {
          "output_type": "stream",
          "name": "stdout",
          "text": [
            "Model: \"model_10\"\n",
            "_________________________________________________________________\n",
            " Layer (type)                Output Shape              Param #   \n",
            "=================================================================\n",
            " input_11 (InputLayer)       [(None, 64, 64, 3)]       0         \n",
            "                                                                 \n",
            " block1_conv1 (Conv2D)       (None, 64, 64, 64)        1792      \n",
            "                                                                 \n",
            " block1_conv2 (Conv2D)       (None, 64, 64, 64)        36928     \n",
            "                                                                 \n",
            " block1_pool (MaxPooling2D)  (None, 32, 32, 64)        0         \n",
            "                                                                 \n",
            " block2_conv1 (Conv2D)       (None, 32, 32, 128)       73856     \n",
            "                                                                 \n",
            " block2_conv2 (Conv2D)       (None, 32, 32, 128)       147584    \n",
            "                                                                 \n",
            " block2_pool (MaxPooling2D)  (None, 16, 16, 128)       0         \n",
            "                                                                 \n",
            " block3_conv1 (Conv2D)       (None, 16, 16, 256)       295168    \n",
            "                                                                 \n",
            " block3_conv2 (Conv2D)       (None, 16, 16, 256)       590080    \n",
            "                                                                 \n",
            " block3_conv3 (Conv2D)       (None, 16, 16, 256)       590080    \n",
            "                                                                 \n",
            " block3_conv4 (Conv2D)       (None, 16, 16, 256)       590080    \n",
            "                                                                 \n",
            " block3_pool (MaxPooling2D)  (None, 8, 8, 256)         0         \n",
            "                                                                 \n",
            " block4_conv1 (Conv2D)       (None, 8, 8, 512)         1180160   \n",
            "                                                                 \n",
            " block4_conv2 (Conv2D)       (None, 8, 8, 512)         2359808   \n",
            "                                                                 \n",
            " block4_conv3 (Conv2D)       (None, 8, 8, 512)         2359808   \n",
            "                                                                 \n",
            " block4_conv4 (Conv2D)       (None, 8, 8, 512)         2359808   \n",
            "                                                                 \n",
            " block4_pool (MaxPooling2D)  (None, 4, 4, 512)         0         \n",
            "                                                                 \n",
            " block5_conv1 (Conv2D)       (None, 4, 4, 512)         2359808   \n",
            "                                                                 \n",
            " block5_conv2 (Conv2D)       (None, 4, 4, 512)         2359808   \n",
            "                                                                 \n",
            " block5_conv3 (Conv2D)       (None, 4, 4, 512)         2359808   \n",
            "                                                                 \n",
            " block5_conv4 (Conv2D)       (None, 4, 4, 512)         2359808   \n",
            "                                                                 \n",
            " block5_pool (MaxPooling2D)  (None, 2, 2, 512)         0         \n",
            "                                                                 \n",
            " flatten_10 (Flatten)        (None, 2048)              0         \n",
            "                                                                 \n",
            " dense_10 (Dense)            (None, 256)               524544    \n",
            "                                                                 \n",
            " fc (Dense)                  (None, 1)                 257       \n",
            "                                                                 \n",
            "=================================================================\n",
            "Total params: 20,549,185\n",
            "Trainable params: 12,323,841\n",
            "Non-trainable params: 8,225,344\n",
            "_________________________________________________________________\n",
            "Epoch 1/100\n",
            "19/19 [==============================] - 3s 121ms/step - loss: 0.2153 - accuracy: 0.6683 - val_loss: 0.1480 - val_accuracy: 0.8400\n",
            "Epoch 2/100\n",
            "19/19 [==============================] - 2s 106ms/step - loss: 0.1098 - accuracy: 0.8883 - val_loss: 0.0838 - val_accuracy: 0.9200\n",
            "Epoch 3/100\n",
            "19/19 [==============================] - 2s 106ms/step - loss: 0.0744 - accuracy: 0.9033 - val_loss: 0.0729 - val_accuracy: 0.9133\n",
            "Epoch 4/100\n",
            "19/19 [==============================] - 2s 106ms/step - loss: 0.0590 - accuracy: 0.9167 - val_loss: 0.1213 - val_accuracy: 0.8333\n",
            "Epoch 5/100\n",
            "19/19 [==============================] - 2s 107ms/step - loss: 0.0612 - accuracy: 0.9300 - val_loss: 0.0429 - val_accuracy: 0.9467\n",
            "Epoch 6/100\n",
            "19/19 [==============================] - 2s 107ms/step - loss: 0.0346 - accuracy: 0.9633 - val_loss: 0.0354 - val_accuracy: 0.9600\n",
            "Epoch 7/100\n",
            "19/19 [==============================] - 2s 107ms/step - loss: 0.0343 - accuracy: 0.9633 - val_loss: 0.0417 - val_accuracy: 0.9533\n",
            "Epoch 8/100\n",
            "19/19 [==============================] - 2s 108ms/step - loss: 0.0239 - accuracy: 0.9767 - val_loss: 0.0467 - val_accuracy: 0.9600\n",
            "Epoch 9/100\n",
            "19/19 [==============================] - 2s 107ms/step - loss: 0.0244 - accuracy: 0.9667 - val_loss: 0.0256 - val_accuracy: 0.9733\n",
            "Epoch 10/100\n",
            "19/19 [==============================] - 2s 108ms/step - loss: 0.0133 - accuracy: 0.9867 - val_loss: 0.0228 - val_accuracy: 0.9733\n",
            "Epoch 11/100\n",
            "19/19 [==============================] - 2s 107ms/step - loss: 0.0117 - accuracy: 0.9867 - val_loss: 0.0299 - val_accuracy: 0.9733\n",
            "Epoch 12/100\n",
            "19/19 [==============================] - 2s 107ms/step - loss: 0.0134 - accuracy: 0.9850 - val_loss: 0.0233 - val_accuracy: 0.9733\n",
            "Epoch 13/100\n",
            "19/19 [==============================] - 2s 107ms/step - loss: 0.0089 - accuracy: 0.9917 - val_loss: 0.0201 - val_accuracy: 0.9733\n",
            "Epoch 14/100\n",
            "19/19 [==============================] - 2s 106ms/step - loss: 0.0084 - accuracy: 0.9917 - val_loss: 0.0220 - val_accuracy: 0.9733\n",
            "Epoch 15/100\n",
            "19/19 [==============================] - 2s 106ms/step - loss: 0.0089 - accuracy: 0.9917 - val_loss: 0.0176 - val_accuracy: 0.9800\n",
            "Epoch 16/100\n",
            "19/19 [==============================] - 2s 106ms/step - loss: 0.0115 - accuracy: 0.9883 - val_loss: 0.0239 - val_accuracy: 0.9733\n",
            "Epoch 17/100\n",
            "19/19 [==============================] - 2s 106ms/step - loss: 0.0087 - accuracy: 0.9883 - val_loss: 0.0254 - val_accuracy: 0.9733\n",
            "Epoch 18/100\n",
            "19/19 [==============================] - 2s 106ms/step - loss: 0.0087 - accuracy: 0.9933 - val_loss: 0.0218 - val_accuracy: 0.9800\n",
            "Epoch 19/100\n",
            "19/19 [==============================] - 2s 106ms/step - loss: 0.0076 - accuracy: 0.9917 - val_loss: 0.0286 - val_accuracy: 0.9667\n",
            "Epoch 20/100\n",
            "19/19 [==============================] - 2s 106ms/step - loss: 0.0056 - accuracy: 0.9950 - val_loss: 0.0142 - val_accuracy: 0.9800\n",
            "Epoch 21/100\n",
            "19/19 [==============================] - 2s 106ms/step - loss: 0.0059 - accuracy: 0.9950 - val_loss: 0.0132 - val_accuracy: 0.9867\n",
            "Epoch 22/100\n",
            "19/19 [==============================] - 2s 106ms/step - loss: 0.0060 - accuracy: 0.9950 - val_loss: 0.0134 - val_accuracy: 0.9867\n",
            "Epoch 23/100\n",
            "19/19 [==============================] - 2s 107ms/step - loss: 0.0035 - accuracy: 0.9983 - val_loss: 0.0125 - val_accuracy: 0.9867\n",
            "Epoch 24/100\n",
            "19/19 [==============================] - 2s 107ms/step - loss: 0.0038 - accuracy: 0.9950 - val_loss: 0.0422 - val_accuracy: 0.9467\n",
            "Epoch 25/100\n",
            "19/19 [==============================] - 2s 107ms/step - loss: 0.0047 - accuracy: 0.9950 - val_loss: 0.0135 - val_accuracy: 0.9800\n",
            "Epoch 26/100\n",
            "19/19 [==============================] - 2s 107ms/step - loss: 0.0038 - accuracy: 0.9950 - val_loss: 0.0201 - val_accuracy: 0.9733\n",
            "Epoch 27/100\n",
            "19/19 [==============================] - 2s 106ms/step - loss: 0.0037 - accuracy: 0.9967 - val_loss: 0.0133 - val_accuracy: 0.9800\n",
            "Epoch 28/100\n",
            "19/19 [==============================] - 2s 107ms/step - loss: 0.0046 - accuracy: 0.9967 - val_loss: 0.0166 - val_accuracy: 0.9800\n",
            "Epoch 29/100\n",
            "19/19 [==============================] - 2s 106ms/step - loss: 0.0126 - accuracy: 0.9800 - val_loss: 0.0626 - val_accuracy: 0.9067\n",
            "Epoch 30/100\n",
            "19/19 [==============================] - 2s 106ms/step - loss: 0.0138 - accuracy: 0.9817 - val_loss: 0.0238 - val_accuracy: 0.9733\n",
            "Epoch 31/100\n",
            "19/19 [==============================] - 2s 107ms/step - loss: 0.0070 - accuracy: 0.9883 - val_loss: 0.0143 - val_accuracy: 0.9800\n",
            "Epoch 32/100\n",
            "19/19 [==============================] - 2s 106ms/step - loss: 0.0042 - accuracy: 0.9967 - val_loss: 0.0118 - val_accuracy: 0.9933\n",
            "Epoch 33/100\n",
            "19/19 [==============================] - 2s 107ms/step - loss: 0.0030 - accuracy: 0.9983 - val_loss: 0.0153 - val_accuracy: 0.9800\n",
            "Epoch 34/100\n",
            "19/19 [==============================] - 2s 107ms/step - loss: 0.0037 - accuracy: 0.9967 - val_loss: 0.0153 - val_accuracy: 0.9800\n",
            "Epoch 35/100\n",
            "19/19 [==============================] - 2s 108ms/step - loss: 0.0039 - accuracy: 0.9967 - val_loss: 0.0153 - val_accuracy: 0.9800\n",
            "Epoch 36/100\n",
            "19/19 [==============================] - 2s 108ms/step - loss: 0.0048 - accuracy: 0.9950 - val_loss: 0.0286 - val_accuracy: 0.9733\n",
            "Epoch 37/100\n",
            "19/19 [==============================] - 2s 108ms/step - loss: 0.0081 - accuracy: 0.9933 - val_loss: 0.0151 - val_accuracy: 0.9800\n",
            "Epoch 38/100\n",
            "19/19 [==============================] - 2s 108ms/step - loss: 0.0035 - accuracy: 0.9983 - val_loss: 0.0149 - val_accuracy: 0.9800\n",
            "Epoch 39/100\n",
            "19/19 [==============================] - 2s 107ms/step - loss: 0.0050 - accuracy: 0.9950 - val_loss: 0.0145 - val_accuracy: 0.9867\n",
            "Epoch 40/100\n",
            "19/19 [==============================] - 2s 107ms/step - loss: 0.0055 - accuracy: 0.9950 - val_loss: 0.0158 - val_accuracy: 0.9867\n",
            "Epoch 41/100\n",
            "19/19 [==============================] - 2s 107ms/step - loss: 0.0103 - accuracy: 0.9867 - val_loss: 0.0214 - val_accuracy: 0.9800\n",
            "Epoch 42/100\n",
            "19/19 [==============================] - 2s 108ms/step - loss: 0.0042 - accuracy: 0.9950 - val_loss: 0.0110 - val_accuracy: 0.9933\n",
            "Epoch 43/100\n",
            "19/19 [==============================] - 2s 107ms/step - loss: 0.0056 - accuracy: 0.9933 - val_loss: 0.0262 - val_accuracy: 0.9733\n",
            "Epoch 44/100\n",
            "19/19 [==============================] - 2s 108ms/step - loss: 0.0039 - accuracy: 0.9967 - val_loss: 0.0136 - val_accuracy: 0.9867\n",
            "Epoch 45/100\n",
            "19/19 [==============================] - 2s 107ms/step - loss: 0.0035 - accuracy: 0.9967 - val_loss: 0.0123 - val_accuracy: 0.9867\n",
            "Epoch 46/100\n",
            "19/19 [==============================] - 2s 109ms/step - loss: 0.0060 - accuracy: 0.9900 - val_loss: 0.0183 - val_accuracy: 0.9800\n",
            "Epoch 47/100\n",
            "19/19 [==============================] - 2s 107ms/step - loss: 0.0025 - accuracy: 0.9983 - val_loss: 0.0143 - val_accuracy: 0.9867\n",
            "Epoch 48/100\n",
            "19/19 [==============================] - 2s 107ms/step - loss: 0.0021 - accuracy: 0.9983 - val_loss: 0.0112 - val_accuracy: 0.9867\n",
            "Epoch 49/100\n",
            "19/19 [==============================] - 2s 107ms/step - loss: 0.0018 - accuracy: 0.9983 - val_loss: 0.0125 - val_accuracy: 0.9800\n",
            "Epoch 50/100\n",
            "19/19 [==============================] - 2s 107ms/step - loss: 0.0018 - accuracy: 0.9983 - val_loss: 0.0092 - val_accuracy: 0.9933\n",
            "Epoch 51/100\n",
            "19/19 [==============================] - 2s 107ms/step - loss: 0.0017 - accuracy: 0.9983 - val_loss: 0.0123 - val_accuracy: 0.9867\n",
            "Epoch 52/100\n",
            "19/19 [==============================] - 2s 107ms/step - loss: 0.0021 - accuracy: 0.9983 - val_loss: 0.0163 - val_accuracy: 0.9800\n",
            "Epoch 53/100\n",
            "19/19 [==============================] - 2s 107ms/step - loss: 0.0030 - accuracy: 0.9967 - val_loss: 0.0203 - val_accuracy: 0.9800\n",
            "Epoch 54/100\n",
            "19/19 [==============================] - 2s 107ms/step - loss: 0.0092 - accuracy: 0.9900 - val_loss: 0.0203 - val_accuracy: 0.9733\n",
            "Epoch 55/100\n",
            "19/19 [==============================] - 2s 107ms/step - loss: 0.0039 - accuracy: 0.9967 - val_loss: 0.0161 - val_accuracy: 0.9800\n",
            "Epoch 56/100\n",
            "19/19 [==============================] - 2s 107ms/step - loss: 0.0052 - accuracy: 0.9933 - val_loss: 0.0141 - val_accuracy: 0.9867\n",
            "Epoch 57/100\n",
            "19/19 [==============================] - 2s 108ms/step - loss: 0.0019 - accuracy: 0.9983 - val_loss: 0.0098 - val_accuracy: 0.9933\n",
            "Epoch 58/100\n",
            "19/19 [==============================] - 2s 108ms/step - loss: 0.0019 - accuracy: 0.9983 - val_loss: 0.0099 - val_accuracy: 0.9933\n",
            "Epoch 59/100\n",
            "19/19 [==============================] - 2s 107ms/step - loss: 0.0017 - accuracy: 0.9983 - val_loss: 0.0097 - val_accuracy: 0.9933\n",
            "Epoch 60/100\n",
            "19/19 [==============================] - 2s 107ms/step - loss: 0.0016 - accuracy: 0.9983 - val_loss: 0.0099 - val_accuracy: 0.9933\n",
            "Epoch 61/100\n",
            "19/19 [==============================] - 2s 107ms/step - loss: 0.0016 - accuracy: 0.9983 - val_loss: 0.0116 - val_accuracy: 0.9800\n",
            "Epoch 62/100\n",
            "19/19 [==============================] - 2s 107ms/step - loss: 0.0017 - accuracy: 0.9983 - val_loss: 0.0121 - val_accuracy: 0.9867\n",
            "Epoch 63/100\n",
            "19/19 [==============================] - 2s 107ms/step - loss: 0.0027 - accuracy: 0.9983 - val_loss: 0.0213 - val_accuracy: 0.9800\n",
            "Epoch 64/100\n",
            "19/19 [==============================] - 2s 107ms/step - loss: 0.0034 - accuracy: 0.9967 - val_loss: 0.0219 - val_accuracy: 0.9733\n",
            "Epoch 65/100\n",
            "19/19 [==============================] - 2s 107ms/step - loss: 0.0032 - accuracy: 0.9967 - val_loss: 0.0138 - val_accuracy: 0.9800\n",
            "Epoch 66/100\n",
            "19/19 [==============================] - 2s 106ms/step - loss: 0.0065 - accuracy: 0.9917 - val_loss: 0.0395 - val_accuracy: 0.9400\n",
            "Epoch 67/100\n",
            "19/19 [==============================] - 2s 107ms/step - loss: 0.0029 - accuracy: 0.9967 - val_loss: 0.0102 - val_accuracy: 0.9800\n",
            "Epoch 68/100\n",
            "19/19 [==============================] - 2s 107ms/step - loss: 0.0017 - accuracy: 0.9983 - val_loss: 0.0103 - val_accuracy: 0.9867\n",
            "Epoch 69/100\n",
            "19/19 [==============================] - 2s 107ms/step - loss: 0.0023 - accuracy: 0.9967 - val_loss: 0.0126 - val_accuracy: 0.9867\n",
            "Epoch 70/100\n",
            "19/19 [==============================] - 2s 108ms/step - loss: 0.0017 - accuracy: 0.9983 - val_loss: 0.0168 - val_accuracy: 0.9800\n",
            "Epoch 71/100\n",
            "19/19 [==============================] - 2s 107ms/step - loss: 0.0024 - accuracy: 0.9983 - val_loss: 0.0120 - val_accuracy: 0.9800\n",
            "Epoch 72/100\n",
            "19/19 [==============================] - 2s 107ms/step - loss: 0.0027 - accuracy: 0.9983 - val_loss: 0.0148 - val_accuracy: 0.9867\n",
            "Epoch 73/100\n",
            "19/19 [==============================] - 2s 107ms/step - loss: 0.0053 - accuracy: 0.9917 - val_loss: 0.0835 - val_accuracy: 0.8867\n",
            "Epoch 74/100\n",
            "19/19 [==============================] - 2s 108ms/step - loss: 0.0121 - accuracy: 0.9817 - val_loss: 0.0222 - val_accuracy: 0.9733\n",
            "Epoch 75/100\n",
            "19/19 [==============================] - 2s 107ms/step - loss: 0.0029 - accuracy: 0.9967 - val_loss: 0.0115 - val_accuracy: 0.9800\n",
            "Epoch 76/100\n",
            "19/19 [==============================] - 2s 108ms/step - loss: 0.0018 - accuracy: 0.9983 - val_loss: 0.0109 - val_accuracy: 0.9800\n",
            "Epoch 77/100\n",
            "19/19 [==============================] - 2s 107ms/step - loss: 0.0015 - accuracy: 0.9983 - val_loss: 0.0089 - val_accuracy: 0.9933\n",
            "Epoch 78/100\n",
            "19/19 [==============================] - 2s 107ms/step - loss: 0.0015 - accuracy: 0.9983 - val_loss: 0.0092 - val_accuracy: 0.9933\n",
            "Epoch 79/100\n",
            "19/19 [==============================] - 2s 107ms/step - loss: 0.0014 - accuracy: 0.9983 - val_loss: 0.0098 - val_accuracy: 0.9867\n",
            "Epoch 80/100\n",
            "19/19 [==============================] - 2s 107ms/step - loss: 0.0013 - accuracy: 0.9983 - val_loss: 0.0087 - val_accuracy: 0.9933\n",
            "Epoch 81/100\n",
            "19/19 [==============================] - 2s 108ms/step - loss: 0.0011 - accuracy: 0.9983 - val_loss: 0.0100 - val_accuracy: 0.9867\n",
            "Epoch 82/100\n",
            "19/19 [==============================] - 2s 107ms/step - loss: 0.0014 - accuracy: 0.9983 - val_loss: 0.0104 - val_accuracy: 0.9867\n",
            "Epoch 83/100\n",
            "19/19 [==============================] - 2s 107ms/step - loss: 0.0015 - accuracy: 0.9983 - val_loss: 0.0098 - val_accuracy: 0.9867\n",
            "Epoch 84/100\n",
            "19/19 [==============================] - 2s 107ms/step - loss: 0.0014 - accuracy: 0.9983 - val_loss: 0.0100 - val_accuracy: 0.9867\n",
            "Epoch 85/100\n",
            "19/19 [==============================] - 2s 107ms/step - loss: 0.0012 - accuracy: 0.9983 - val_loss: 0.0100 - val_accuracy: 0.9867\n",
            "Epoch 86/100\n",
            "19/19 [==============================] - 2s 107ms/step - loss: 0.0012 - accuracy: 0.9983 - val_loss: 0.0116 - val_accuracy: 0.9867\n",
            "Epoch 87/100\n",
            "19/19 [==============================] - 2s 108ms/step - loss: 0.0011 - accuracy: 0.9983 - val_loss: 0.0094 - val_accuracy: 0.9867\n",
            "Epoch 88/100\n",
            "19/19 [==============================] - 2s 107ms/step - loss: 0.0013 - accuracy: 0.9983 - val_loss: 0.0105 - val_accuracy: 0.9867\n",
            "Epoch 89/100\n",
            "19/19 [==============================] - 2s 108ms/step - loss: 0.0011 - accuracy: 0.9983 - val_loss: 0.0090 - val_accuracy: 0.9933\n",
            "Epoch 90/100\n",
            "19/19 [==============================] - 2s 109ms/step - loss: 0.0014 - accuracy: 0.9983 - val_loss: 0.0115 - val_accuracy: 0.9800\n",
            "Epoch 91/100\n",
            "19/19 [==============================] - 2s 107ms/step - loss: 0.0034 - accuracy: 0.9950 - val_loss: 0.0144 - val_accuracy: 0.9867\n",
            "Epoch 92/100\n",
            "19/19 [==============================] - 2s 108ms/step - loss: 0.0015 - accuracy: 0.9967 - val_loss: 0.0132 - val_accuracy: 0.9867\n",
            "Epoch 93/100\n",
            "19/19 [==============================] - 2s 109ms/step - loss: 0.0036 - accuracy: 0.9967 - val_loss: 0.0209 - val_accuracy: 0.9733\n",
            "Epoch 94/100\n",
            "19/19 [==============================] - 2s 107ms/step - loss: 0.0015 - accuracy: 0.9983 - val_loss: 0.0101 - val_accuracy: 0.9867\n",
            "Epoch 95/100\n",
            "19/19 [==============================] - 2s 107ms/step - loss: 0.0011 - accuracy: 0.9983 - val_loss: 0.0103 - val_accuracy: 0.9867\n",
            "Epoch 96/100\n",
            "19/19 [==============================] - 2s 107ms/step - loss: 9.1534e-04 - accuracy: 1.0000 - val_loss: 0.0117 - val_accuracy: 0.9867\n",
            "Epoch 97/100\n",
            "19/19 [==============================] - 2s 108ms/step - loss: 0.0014 - accuracy: 0.9983 - val_loss: 0.0099 - val_accuracy: 0.9867\n",
            "Epoch 98/100\n",
            "19/19 [==============================] - 2s 108ms/step - loss: 0.0023 - accuracy: 0.9950 - val_loss: 0.0109 - val_accuracy: 0.9867\n",
            "Epoch 99/100\n",
            "19/19 [==============================] - 2s 108ms/step - loss: 0.0018 - accuracy: 0.9983 - val_loss: 0.0155 - val_accuracy: 0.9800\n",
            "Epoch 100/100\n",
            "19/19 [==============================] - 2s 107ms/step - loss: 0.0015 - accuracy: 0.9983 - val_loss: 0.0076 - val_accuracy: 0.9933\n",
            "5/5 [==============================] - 0s 61ms/step - loss: 0.0076 - accuracy: 0.9933\n",
            "Validation Loss = 0.00762962969020009\n",
            "Validation Accuracy = 0.9933333396911621\n"
          ]
        },
        {
          "output_type": "display_data",
          "data": {
            "text/plain": [
              "<Figure size 576x432 with 1 Axes>"
            ],
            "image/png": "[encoded data removed]"
          },
          "metadata": {
            "needs_background": "light"
          }
        },
        {
          "output_type": "display_data",
          "data": {
            "text/plain": [
              "<Figure size 576x432 with 1 Axes>"
            ],
            "image/png": "[encoded data removed]"
          },
          "metadata": {
            "needs_background": "light"
          }
        }
      ],
      "source": [
        "test_pretrained_layers_15_freezing_VGG(100)"
      ]
    },
    {
      "cell_type": "markdown",
      "metadata": {
        "id": "ntW1W4xGW6d-"
      },
      "source": [
        "## 3.3 Conclusion"
      ]
    },
    {
      "cell_type": "markdown",
      "metadata": {
        "id": "_TZBCoE7XAws"
      },
      "source": [
        "That's it! Congratulations on training CNN use cases models.\n",
        "\n",
        "Make sure you deliver all the requirements for the submission."
      ]
    }
  ],
  "metadata": {
    "accelerator": "GPU",
    "colab": {
      "collapsed_sections": [],
      "name": "Assignment 3.ipynb",
      "provenance": []
    },
    "kernelspec": {
      "display_name": "Python 3",
      "name": "python3"
    },
    "language_info": {
      "name": "python"
    }
  },
  "nbformat": 4,
  "nbformat_minor": 0
}